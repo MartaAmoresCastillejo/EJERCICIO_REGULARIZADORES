{
  "nbformat": 4,
  "nbformat_minor": 0,
  "metadata": {
    "kernelspec": {
      "display_name": "Python 3",
      "language": "python",
      "name": "python3"
    },
    "language_info": {
      "codemirror_mode": {
        "name": "ipython",
        "version": 3
      },
      "file_extension": ".py",
      "mimetype": "text/x-python",
      "name": "python",
      "nbconvert_exporter": "python",
      "pygments_lexer": "ipython3",
      "version": "3.8.5"
    },
    "colab": {
      "provenance": []
    },
    "accelerator": "GPU",
    "gpuClass": "standard"
  },
  "cells": [
    {
      "cell_type": "markdown",
      "metadata": {
        "id": "Ejg7Msp7rbkk"
      },
      "source": [
        "# Ejercicio con regularizadores\n",
        "\n",
        "MARTA AMORES"
      ]
    },
    {
      "cell_type": "code",
      "source": [
        "%tensorflow_version 2.x\n",
        "import tensorflow as tf\n",
        "from tensorflow import keras\n",
        "print(tf.keras.__version__)\n",
        "print(\"GPU Available:\", tf.config.list_physical_devices('GPU'))\n",
        "print(tf.__version__)\n",
        "from keras.datasets import mnist\n",
        "from keras import models\n",
        "from keras import layers\n",
        "import numpy as np\n",
        "import matplotlib.pyplot as plt\n",
        "from keras import regularizers"
      ],
      "metadata": {
        "id": "BSivef1i532C",
        "colab": {
          "base_uri": "https://localhost:8080/"
        },
        "outputId": "a8609c19-93da-4041-d9be-02656a7fb7cc"
      },
      "execution_count": null,
      "outputs": [
        {
          "output_type": "stream",
          "name": "stdout",
          "text": [
            "Colab only includes TensorFlow 2.x; %tensorflow_version has no effect.\n",
            "2.9.0\n",
            "GPU Available: [PhysicalDevice(name='/physical_device:GPU:0', device_type='GPU')]\n",
            "2.9.2\n"
          ]
        }
      ]
    },
    {
      "cell_type": "code",
      "source": [
        "(train_images, train_labels), (test_images, test_labels) = mnist.load_data()# Descarga los datos de MNIST"
      ],
      "metadata": {
        "id": "3t3R6gU9-wUy"
      },
      "execution_count": null,
      "outputs": []
    },
    {
      "cell_type": "code",
      "source": [
        "# Prepara con reshape y normaliza las imágenes tanto de entrenamiento como de test\n",
        "train_images = train_images.reshape((60000, 28 * 28))\n",
        "test_images = test_images.reshape((10000, 28 * 28))\n",
        "\n",
        "train_images = train_images.astype('float32') / 255\n",
        "test_images = test_images.astype('float32') / 255"
      ],
      "metadata": {
        "id": "H6n5NeSz0U1d"
      },
      "execution_count": null,
      "outputs": []
    },
    {
      "cell_type": "code",
      "source": [
        "# Crear un subconjunto de imágenes de entrenamiento que llamaré\n",
        "# validation_images, para hacer las validaciones, con las 10000 últimas imágenes \n",
        "# del set de datos de entrenamiento (train_images) (obviamente, lo mismo con las\n",
        "# etiquetas correspondientes -> validation_labels). Deja preparadas las 50K \n",
        "# primeras imágenes y etiquetas para entrenamiento (train_images y train_labels)\n",
        "partial_train_images = train_images[:49999]\n",
        "validation_images = train_images[50000:]\n",
        "partial_train_labels = train_labels[:49999]\n",
        "validation_labels = train_labels[50000:]\n"
      ],
      "metadata": {
        "id": "NKoZGyap0XAj"
      },
      "execution_count": null,
      "outputs": []
    },
    {
      "cell_type": "code",
      "source": [
        "def crea_modelo(regularizador):\n",
        "  model = models.Sequential()\n",
        "  if regularizador == 0:\n",
        "    model.add(layers.Dense(512, activation='relu', input_shape=(28*28,)))\n",
        "  \n",
        "  elif regularizador == 1:\n",
        "    model.add(layers.Dense(512, kernel_regularizer=regularizers.l1(0.001), activation='relu', input_shape=(28*28,)))\n",
        "\n",
        "  elif regularizador == 2:\n",
        "    model.add(layers.Dense(512, kernel_regularizer=regularizers.l2(0.001), activation='relu', input_shape=(28*28,)))\n",
        "\n",
        "  elif regularizador == 3:\n",
        "    model.add(layers.Dense(512, kernel_regularizer=regularizers.l1_l2(0.001), activation='relu', input_shape=(28*28,)))\n",
        "\n",
        "  elif regularizador ==4:\n",
        "    model.add(layers.Dense(512, activation='relu', input_shape=(28*28,)))\n",
        "    model.add(layers.Dropout(0.5))\n",
        "  else: \n",
        "    print('El numero debe estar entre 0-4')\n",
        "    return 0 \n",
        "  model.add(layers.Dense(10, activation = 'softmax'))\n",
        "  # Si es distinto que estos valores, escribe el error y retorna\n",
        "  # Al final, esta función pinta el summary del modelo y retorna el modelo creado\n",
        "  model.summary()\n",
        "  return model"
      ],
      "metadata": {
        "id": "6JnVLVfsAfkh"
      },
      "execution_count": null,
      "outputs": []
    },
    {
      "cell_type": "code",
      "source": [
        "def compila_modelo(model): \n",
        " model.compile(loss = 'sparse_categorical_crossentropy',\n",
        "              optimizer = 'rmsprop',\n",
        "              metrics='accuracy')\n",
        " return model"
      ],
      "metadata": {
        "id": "qKyJ8KOT0aFt"
      },
      "execution_count": null,
      "outputs": []
    },
    {
      "cell_type": "code",
      "source": [
        "def entrena_modelo(model):\n",
        "  # Define una función que entrena el modelo que se le pasa por parámetro,\n",
        "  # con las imágenes y etiquetas de entrenamiento, con 30 iteraciones y 128\n",
        "  # de tamaño de minilote y con el validation_data creado más arriba.\n",
        "  # Esta función devuelve un history\n",
        "  history=model.fit(train_images, train_labels,\n",
        "          batch_size=128,\n",
        "          epochs=30,\n",
        "          validation_data=(validation_images, validation_labels))\n",
        "  return history"
      ],
      "metadata": {
        "id": "_yQ7SpOt0cBp"
      },
      "execution_count": null,
      "outputs": []
    },
    {
      "cell_type": "code",
      "source": [
        "def pinta_perdida_entrenamiento_validacion(historia):\n",
        "  history_dict = historia.history\n",
        "  acc = historia.history['accuracy']\n",
        "  val_acc = historia.history['val_accuracy']\n",
        "  loss = historia.history['loss']\n",
        "  val_loss = historia.history['val_loss']\n",
        "  epochs = range(1, len(acc) + 1)\n",
        "  # \"bo\" es para \"punto azun\"\n",
        "  plt.plot(epochs, loss, 'bo', label='Pérdida de Entrenamiento')\n",
        "  # \"b\" es para \"linea continua azul\"\n",
        "  plt.plot(epochs, val_loss, 'b', label='Pérdida de Validación')\n",
        "  plt.title('Pérdida de Entrenamiento y Validación')\n",
        "  plt.xlabel('Epochs')\n",
        "  plt.ylabel('Loss')\n",
        "  plt.legend()\n",
        "  plt.show()"
      ],
      "metadata": {
        "id": "bJrRNc4WwPN2"
      },
      "execution_count": null,
      "outputs": []
    },
    {
      "cell_type": "code",
      "source": [
        "def pinta_precision_entrenamiento_validacion(historia):\n",
        "  history_dict = historia.history\n",
        "  acc = historia.history['accuracy']\n",
        "  val_acc = historia.history['val_accuracy']\n",
        "  loss = historia.history['loss']\n",
        "  val_loss = historia.history['val_loss']\n",
        "  plt.clf()   # Limpia la figura\n",
        "  acc_values = history_dict['accuracy']\n",
        "  val_acc_values = history_dict['val_accuracy']\n",
        "  epochs = range(1, len(acc) + 1)\n",
        "  plt.plot(epochs, acc, 'bo', label='Precisión de Entrenamiento')\n",
        "  plt.plot(epochs, val_acc, 'b', label='Precisión de Validación')\n",
        "  plt.title('Precisión de Entrenamiento y Valización')\n",
        "  plt.xlabel('Epochs')\n",
        "  plt.ylabel('Loss')\n",
        "  plt.legend()\n",
        "  plt.show()"
      ],
      "metadata": {
        "id": "Mafxp6D3wYQx"
      },
      "execution_count": null,
      "outputs": []
    },
    {
      "cell_type": "markdown",
      "source": [
        "## Una vez definidas todas las funciones anteriores, ejecuta las siguientes llamadas a dichas funciones y deduce que está pasando y, para este contexto, que es lo que mejor está funcionando"
      ],
      "metadata": {
        "id": "6nnQYysYA3_T"
      }
    },
    {
      "cell_type": "markdown",
      "source": [
        "### Caso 0, sin regularizadores"
      ],
      "metadata": {
        "id": "OrGwDgaFBax4"
      }
    },
    {
      "cell_type": "code",
      "source": [
        "network0 = crea_modelo(0)"
      ],
      "metadata": {
        "id": "uXvhlXg79Zi9",
        "colab": {
          "base_uri": "https://localhost:8080/"
        },
        "outputId": "561ce8e7-e009-42e3-fc10-35b6689bce85"
      },
      "execution_count": null,
      "outputs": [
        {
          "output_type": "stream",
          "name": "stdout",
          "text": [
            "Model: \"sequential\"\n",
            "_________________________________________________________________\n",
            " Layer (type)                Output Shape              Param #   \n",
            "=================================================================\n",
            " dense (Dense)               (None, 512)               401920    \n",
            "                                                                 \n",
            " dense_1 (Dense)             (None, 10)                5130      \n",
            "                                                                 \n",
            "=================================================================\n",
            "Total params: 407,050\n",
            "Trainable params: 407,050\n",
            "Non-trainable params: 0\n",
            "_________________________________________________________________\n"
          ]
        }
      ]
    },
    {
      "cell_type": "code",
      "source": [
        "network0 = compila_modelo(network0)"
      ],
      "metadata": {
        "id": "Ff0HC3NR9ez8"
      },
      "execution_count": null,
      "outputs": []
    },
    {
      "cell_type": "code",
      "source": [
        "historia0 = entrena_modelo(network0)"
      ],
      "metadata": {
        "id": "x9zQDOlw9g6V",
        "colab": {
          "base_uri": "https://localhost:8080/"
        },
        "outputId": "99d77ad1-5ac2-4752-953a-07d6aa04db53"
      },
      "execution_count": null,
      "outputs": [
        {
          "output_type": "stream",
          "name": "stdout",
          "text": [
            "Epoch 1/30\n",
            "469/469 [==============================] - 4s 6ms/step - loss: 0.2611 - accuracy: 0.9244 - val_loss: 0.1067 - val_accuracy: 0.9720\n",
            "Epoch 2/30\n",
            "469/469 [==============================] - 3s 7ms/step - loss: 0.1046 - accuracy: 0.9690 - val_loss: 0.0626 - val_accuracy: 0.9816\n",
            "Epoch 3/30\n",
            "469/469 [==============================] - 3s 5ms/step - loss: 0.0691 - accuracy: 0.9794 - val_loss: 0.0392 - val_accuracy: 0.9899\n",
            "Epoch 4/30\n",
            "469/469 [==============================] - 2s 5ms/step - loss: 0.0503 - accuracy: 0.9844 - val_loss: 0.0303 - val_accuracy: 0.9917\n",
            "Epoch 5/30\n",
            "469/469 [==============================] - 2s 5ms/step - loss: 0.0373 - accuracy: 0.9890 - val_loss: 0.0248 - val_accuracy: 0.9935\n",
            "Epoch 6/30\n",
            "469/469 [==============================] - 2s 5ms/step - loss: 0.0280 - accuracy: 0.9917 - val_loss: 0.0157 - val_accuracy: 0.9960\n",
            "Epoch 7/30\n",
            "469/469 [==============================] - 2s 5ms/step - loss: 0.0216 - accuracy: 0.9936 - val_loss: 0.0140 - val_accuracy: 0.9962\n",
            "Epoch 8/30\n",
            "469/469 [==============================] - 2s 3ms/step - loss: 0.0168 - accuracy: 0.9950 - val_loss: 0.0139 - val_accuracy: 0.9961\n",
            "Epoch 9/30\n",
            "469/469 [==============================] - 2s 3ms/step - loss: 0.0131 - accuracy: 0.9960 - val_loss: 0.0104 - val_accuracy: 0.9972\n",
            "Epoch 10/30\n",
            "469/469 [==============================] - 2s 4ms/step - loss: 0.0103 - accuracy: 0.9971 - val_loss: 0.0066 - val_accuracy: 0.9986\n",
            "Epoch 11/30\n",
            "469/469 [==============================] - 2s 3ms/step - loss: 0.0077 - accuracy: 0.9980 - val_loss: 0.0057 - val_accuracy: 0.9986\n",
            "Epoch 12/30\n",
            "469/469 [==============================] - 2s 3ms/step - loss: 0.0062 - accuracy: 0.9984 - val_loss: 0.0032 - val_accuracy: 0.9992\n",
            "Epoch 13/30\n",
            "469/469 [==============================] - 1s 3ms/step - loss: 0.0049 - accuracy: 0.9985 - val_loss: 0.0038 - val_accuracy: 0.9988\n",
            "Epoch 14/30\n",
            "469/469 [==============================] - 2s 3ms/step - loss: 0.0037 - accuracy: 0.9989 - val_loss: 0.0035 - val_accuracy: 0.9988\n",
            "Epoch 15/30\n",
            "469/469 [==============================] - 2s 3ms/step - loss: 0.0029 - accuracy: 0.9992 - val_loss: 0.0016 - val_accuracy: 0.9995\n",
            "Epoch 16/30\n",
            "469/469 [==============================] - 2s 4ms/step - loss: 0.0024 - accuracy: 0.9994 - val_loss: 0.0023 - val_accuracy: 0.9992\n",
            "Epoch 17/30\n",
            "469/469 [==============================] - 2s 4ms/step - loss: 0.0018 - accuracy: 0.9995 - val_loss: 7.1061e-04 - val_accuracy: 0.9998\n",
            "Epoch 18/30\n",
            "469/469 [==============================] - 2s 3ms/step - loss: 0.0013 - accuracy: 0.9997 - val_loss: 5.6364e-04 - val_accuracy: 1.0000\n",
            "Epoch 19/30\n",
            "469/469 [==============================] - 1s 3ms/step - loss: 0.0011 - accuracy: 0.9997 - val_loss: 2.6069e-04 - val_accuracy: 1.0000\n",
            "Epoch 20/30\n",
            "469/469 [==============================] - 2s 4ms/step - loss: 9.8876e-04 - accuracy: 0.9998 - val_loss: 3.5100e-04 - val_accuracy: 0.9999\n",
            "Epoch 21/30\n",
            "469/469 [==============================] - 2s 4ms/step - loss: 7.1426e-04 - accuracy: 0.9998 - val_loss: 4.9704e-04 - val_accuracy: 0.9998\n",
            "Epoch 22/30\n",
            "469/469 [==============================] - 2s 4ms/step - loss: 7.2481e-04 - accuracy: 0.9998 - val_loss: 1.1210e-04 - val_accuracy: 1.0000\n",
            "Epoch 23/30\n",
            "469/469 [==============================] - 2s 3ms/step - loss: 7.1163e-04 - accuracy: 0.9998 - val_loss: 6.6356e-04 - val_accuracy: 0.9998\n",
            "Epoch 24/30\n",
            "469/469 [==============================] - 1s 3ms/step - loss: 5.5550e-04 - accuracy: 0.9998 - val_loss: 3.0301e-04 - val_accuracy: 0.9999\n",
            "Epoch 25/30\n",
            "469/469 [==============================] - 2s 4ms/step - loss: 3.8593e-04 - accuracy: 0.9999 - val_loss: 7.5186e-04 - val_accuracy: 0.9999\n",
            "Epoch 26/30\n",
            "469/469 [==============================] - 2s 3ms/step - loss: 2.7303e-04 - accuracy: 0.9999 - val_loss: 7.3905e-04 - val_accuracy: 0.9997\n",
            "Epoch 27/30\n",
            "469/469 [==============================] - 2s 4ms/step - loss: 2.2525e-04 - accuracy: 0.9999 - val_loss: 1.2683e-04 - val_accuracy: 1.0000\n",
            "Epoch 28/30\n",
            "469/469 [==============================] - 2s 4ms/step - loss: 2.4263e-04 - accuracy: 0.9999 - val_loss: 1.1470e-04 - val_accuracy: 0.9999\n",
            "Epoch 29/30\n",
            "469/469 [==============================] - 2s 4ms/step - loss: 1.3580e-04 - accuracy: 0.9999 - val_loss: 2.9780e-05 - val_accuracy: 1.0000\n",
            "Epoch 30/30\n",
            "469/469 [==============================] - 2s 3ms/step - loss: 2.0243e-04 - accuracy: 0.9999 - val_loss: 5.6905e-05 - val_accuracy: 1.0000\n"
          ]
        }
      ]
    },
    {
      "cell_type": "code",
      "source": [
        "pinta_perdida_entrenamiento_validacion(historia0)"
      ],
      "metadata": {
        "id": "OvhDZvS8-0mG",
        "colab": {
          "base_uri": "https://localhost:8080/",
          "height": 294
        },
        "outputId": "9f1187ce-5b2f-450a-c643-1c5c630229b6"
      },
      "execution_count": null,
      "outputs": [
        {
          "output_type": "display_data",
          "data": {
            "text/plain": [
              "<Figure size 432x288 with 1 Axes>"
            ],
            "image/png": "[encoded data removed]"
          },
          "metadata": {
            "needs_background": "light"
          }
        }
      ]
    },
    {
      "cell_type": "code",
      "source": [
        "pinta_precision_entrenamiento_validacion(historia0)"
      ],
      "metadata": {
        "id": "UuiL2CCH_fGN",
        "colab": {
          "base_uri": "https://localhost:8080/",
          "height": 294
        },
        "outputId": "97a456fc-ce3f-4e9c-8988-253d8c59d9c0"
      },
      "execution_count": null,
      "outputs": [
        {
          "output_type": "display_data",
          "data": {
            "text/plain": [
              "<Figure size 432x288 with 1 Axes>"
            ],
            "image/png": "[encoded data removed]"
          },
          "metadata": {
            "needs_background": "light"
          }
        }
      ]
    },
    {
      "cell_type": "markdown",
      "source": [
        "### Caso 1: Con regularizador l1"
      ],
      "metadata": {
        "id": "pw6iBGO5Bg8J"
      }
    },
    {
      "cell_type": "code",
      "source": [
        "network1 = crea_modelo(1)"
      ],
      "metadata": {
        "id": "D6JPtw5zCz-1",
        "colab": {
          "base_uri": "https://localhost:8080/"
        },
        "outputId": "54d17239-6714-46e8-97f2-d3972f99f4a2"
      },
      "execution_count": null,
      "outputs": [
        {
          "output_type": "stream",
          "name": "stdout",
          "text": [
            "Model: \"sequential_3\"\n",
            "_________________________________________________________________\n",
            " Layer (type)                Output Shape              Param #   \n",
            "=================================================================\n",
            " dense_2 (Dense)             (None, 512)               401920    \n",
            "                                                                 \n",
            " dense_3 (Dense)             (None, 10)                5130      \n",
            "                                                                 \n",
            "=================================================================\n",
            "Total params: 407,050\n",
            "Trainable params: 407,050\n",
            "Non-trainable params: 0\n",
            "_________________________________________________________________\n"
          ]
        }
      ]
    },
    {
      "cell_type": "code",
      "source": [
        "network1 = compila_modelo(network1)"
      ],
      "metadata": {
        "id": "zL3Gp7wvFRq3"
      },
      "execution_count": null,
      "outputs": []
    },
    {
      "cell_type": "code",
      "source": [
        "historia1 = entrena_modelo(network1)"
      ],
      "metadata": {
        "id": "G2FG1Z4xFW72",
        "colab": {
          "base_uri": "https://localhost:8080/"
        },
        "outputId": "64dddfb4-6e5e-4527-eceb-d8ece61fcafb"
      },
      "execution_count": null,
      "outputs": [
        {
          "output_type": "stream",
          "name": "stdout",
          "text": [
            "Epoch 1/30\n",
            "469/469 [==============================] - 2s 4ms/step - loss: 1.9398 - accuracy: 0.8505 - val_loss: 1.1238 - val_accuracy: 0.8361\n",
            "Epoch 2/30\n",
            "469/469 [==============================] - 2s 4ms/step - loss: 0.9167 - accuracy: 0.8873 - val_loss: 0.8453 - val_accuracy: 0.9003\n",
            "Epoch 3/30\n",
            "469/469 [==============================] - 2s 4ms/step - loss: 0.7898 - accuracy: 0.9099 - val_loss: 0.7711 - val_accuracy: 0.9113\n",
            "Epoch 4/30\n",
            "469/469 [==============================] - 2s 4ms/step - loss: 0.7176 - accuracy: 0.9222 - val_loss: 0.6842 - val_accuracy: 0.9264\n",
            "Epoch 5/30\n",
            "469/469 [==============================] - 2s 4ms/step - loss: 0.6717 - accuracy: 0.9319 - val_loss: 0.6535 - val_accuracy: 0.9373\n",
            "Epoch 6/30\n",
            "469/469 [==============================] - 2s 4ms/step - loss: 0.6423 - accuracy: 0.9356 - val_loss: 0.5889 - val_accuracy: 0.9490\n",
            "Epoch 7/30\n",
            "469/469 [==============================] - 2s 4ms/step - loss: 0.6152 - accuracy: 0.9401 - val_loss: 0.6110 - val_accuracy: 0.9394\n",
            "Epoch 8/30\n",
            "469/469 [==============================] - 2s 4ms/step - loss: 0.5951 - accuracy: 0.9427 - val_loss: 0.5528 - val_accuracy: 0.9578\n",
            "Epoch 9/30\n",
            "469/469 [==============================] - 2s 4ms/step - loss: 0.5778 - accuracy: 0.9452 - val_loss: 0.5557 - val_accuracy: 0.9494\n",
            "Epoch 10/30\n",
            "469/469 [==============================] - 2s 4ms/step - loss: 0.5644 - accuracy: 0.9480 - val_loss: 0.6042 - val_accuracy: 0.9396\n",
            "Epoch 11/30\n",
            "469/469 [==============================] - 2s 3ms/step - loss: 0.5537 - accuracy: 0.9507 - val_loss: 0.5269 - val_accuracy: 0.9592\n",
            "Epoch 12/30\n",
            "469/469 [==============================] - 2s 3ms/step - loss: 0.5424 - accuracy: 0.9519 - val_loss: 0.5341 - val_accuracy: 0.9538\n",
            "Epoch 13/30\n",
            "469/469 [==============================] - 2s 4ms/step - loss: 0.5340 - accuracy: 0.9533 - val_loss: 0.5119 - val_accuracy: 0.9595\n",
            "Epoch 14/30\n",
            "469/469 [==============================] - 2s 3ms/step - loss: 0.5260 - accuracy: 0.9546 - val_loss: 0.5264 - val_accuracy: 0.9565\n",
            "Epoch 15/30\n",
            "469/469 [==============================] - 2s 4ms/step - loss: 0.5185 - accuracy: 0.9552 - val_loss: 0.5053 - val_accuracy: 0.9569\n",
            "Epoch 16/30\n",
            "469/469 [==============================] - 2s 3ms/step - loss: 0.5137 - accuracy: 0.9565 - val_loss: 0.4963 - val_accuracy: 0.9627\n",
            "Epoch 17/30\n",
            "469/469 [==============================] - 2s 4ms/step - loss: 0.5081 - accuracy: 0.9562 - val_loss: 0.4750 - val_accuracy: 0.9701\n",
            "Epoch 18/30\n",
            "469/469 [==============================] - 2s 3ms/step - loss: 0.5037 - accuracy: 0.9577 - val_loss: 0.4766 - val_accuracy: 0.9666\n",
            "Epoch 19/30\n",
            "469/469 [==============================] - 2s 3ms/step - loss: 0.4996 - accuracy: 0.9577 - val_loss: 0.4855 - val_accuracy: 0.9619\n",
            "Epoch 20/30\n",
            "469/469 [==============================] - 2s 4ms/step - loss: 0.4960 - accuracy: 0.9583 - val_loss: 0.4787 - val_accuracy: 0.9648\n",
            "Epoch 21/30\n",
            "469/469 [==============================] - 2s 3ms/step - loss: 0.4939 - accuracy: 0.9585 - val_loss: 0.4682 - val_accuracy: 0.9686\n",
            "Epoch 22/30\n",
            "469/469 [==============================] - 2s 3ms/step - loss: 0.4900 - accuracy: 0.9582 - val_loss: 0.4577 - val_accuracy: 0.9706\n",
            "Epoch 23/30\n",
            "469/469 [==============================] - 2s 3ms/step - loss: 0.4887 - accuracy: 0.9585 - val_loss: 0.4622 - val_accuracy: 0.9675\n",
            "Epoch 24/30\n",
            "469/469 [==============================] - 2s 4ms/step - loss: 0.4860 - accuracy: 0.9595 - val_loss: 0.4558 - val_accuracy: 0.9690\n",
            "Epoch 25/30\n",
            "469/469 [==============================] - 2s 4ms/step - loss: 0.4825 - accuracy: 0.9597 - val_loss: 0.4645 - val_accuracy: 0.9651\n",
            "Epoch 26/30\n",
            "469/469 [==============================] - 2s 3ms/step - loss: 0.4800 - accuracy: 0.9610 - val_loss: 0.4619 - val_accuracy: 0.9642\n",
            "Epoch 27/30\n",
            "469/469 [==============================] - 2s 3ms/step - loss: 0.4790 - accuracy: 0.9598 - val_loss: 0.4881 - val_accuracy: 0.9610\n",
            "Epoch 28/30\n",
            "469/469 [==============================] - 2s 3ms/step - loss: 0.4764 - accuracy: 0.9601 - val_loss: 0.4563 - val_accuracy: 0.9694\n",
            "Epoch 29/30\n",
            "469/469 [==============================] - 2s 3ms/step - loss: 0.4754 - accuracy: 0.9611 - val_loss: 0.4578 - val_accuracy: 0.9676\n",
            "Epoch 30/30\n",
            "469/469 [==============================] - 2s 4ms/step - loss: 0.4738 - accuracy: 0.9609 - val_loss: 0.4526 - val_accuracy: 0.9669\n"
          ]
        }
      ]
    },
    {
      "cell_type": "code",
      "source": [
        "pinta_perdida_entrenamiento_validacion(historia1)"
      ],
      "metadata": {
        "id": "Vyv3yFtiFitw",
        "colab": {
          "base_uri": "https://localhost:8080/",
          "height": 294
        },
        "outputId": "62c44e6a-120a-4236-96e7-a797ec364617"
      },
      "execution_count": null,
      "outputs": [
        {
          "output_type": "display_data",
          "data": {
            "text/plain": [
              "<Figure size 432x288 with 1 Axes>"
            ],
            "image/png": "[encoded data removed]"
          },
          "metadata": {
            "needs_background": "light"
          }
        }
      ]
    },
    {
      "cell_type": "code",
      "source": [
        "pinta_precision_entrenamiento_validacion(historia1)"
      ],
      "metadata": {
        "id": "pVUerJsqFo7K",
        "colab": {
          "base_uri": "https://localhost:8080/",
          "height": 294
        },
        "outputId": "024e68b7-2323-4a75-8cf1-eb11360ae5ea"
      },
      "execution_count": null,
      "outputs": [
        {
          "output_type": "display_data",
          "data": {
            "text/plain": [
              "<Figure size 432x288 with 1 Axes>"
            ],
            "image/png": "[encoded data removed]"
          },
          "metadata": {
            "needs_background": "light"
          }
        }
      ]
    },
    {
      "cell_type": "markdown",
      "source": [
        "### Caso 2: Con regularizador l2"
      ],
      "metadata": {
        "id": "hklwKNlMBzya"
      }
    },
    {
      "cell_type": "code",
      "source": [
        "network2 = crea_modelo(2)"
      ],
      "metadata": {
        "id": "tjIs0FziG5Ja",
        "colab": {
          "base_uri": "https://localhost:8080/"
        },
        "outputId": "d28d302f-fb19-455c-db41-48ad4dbac7a9"
      },
      "execution_count": null,
      "outputs": [
        {
          "output_type": "stream",
          "name": "stdout",
          "text": [
            "Model: \"sequential_4\"\n",
            "_________________________________________________________________\n",
            " Layer (type)                Output Shape              Param #   \n",
            "=================================================================\n",
            " dense_4 (Dense)             (None, 512)               401920    \n",
            "                                                                 \n",
            " dense_5 (Dense)             (None, 10)                5130      \n",
            "                                                                 \n",
            "=================================================================\n",
            "Total params: 407,050\n",
            "Trainable params: 407,050\n",
            "Non-trainable params: 0\n",
            "_________________________________________________________________\n"
          ]
        }
      ]
    },
    {
      "cell_type": "code",
      "source": [
        "network2 = compila_modelo(network2)"
      ],
      "metadata": {
        "id": "UCdA0K_qyTUq"
      },
      "execution_count": null,
      "outputs": []
    },
    {
      "cell_type": "code",
      "source": [
        "historia2 = entrena_modelo(network2)"
      ],
      "metadata": {
        "id": "WSuomx5oybpu",
        "colab": {
          "base_uri": "https://localhost:8080/"
        },
        "outputId": "ad51794f-2ac8-47ec-ac19-fdb79c2718b0"
      },
      "execution_count": null,
      "outputs": [
        {
          "output_type": "stream",
          "name": "stdout",
          "text": [
            "Epoch 1/30\n",
            "469/469 [==============================] - 2s 4ms/step - loss: 0.4862 - accuracy: 0.9192 - val_loss: 0.2553 - val_accuracy: 0.9618\n",
            "Epoch 2/30\n",
            "469/469 [==============================] - 2s 4ms/step - loss: 0.2422 - accuracy: 0.9581 - val_loss: 0.1841 - val_accuracy: 0.9721\n",
            "Epoch 3/30\n",
            "469/469 [==============================] - 2s 3ms/step - loss: 0.1990 - accuracy: 0.9644 - val_loss: 0.1681 - val_accuracy: 0.9726\n",
            "Epoch 4/30\n",
            "469/469 [==============================] - 2s 4ms/step - loss: 0.1767 - accuracy: 0.9688 - val_loss: 0.1446 - val_accuracy: 0.9786\n",
            "Epoch 5/30\n",
            "469/469 [==============================] - 2s 4ms/step - loss: 0.1651 - accuracy: 0.9717 - val_loss: 0.1527 - val_accuracy: 0.9743\n",
            "Epoch 6/30\n",
            "469/469 [==============================] - 2s 3ms/step - loss: 0.1585 - accuracy: 0.9726 - val_loss: 0.1369 - val_accuracy: 0.9786\n",
            "Epoch 7/30\n",
            "469/469 [==============================] - 2s 4ms/step - loss: 0.1522 - accuracy: 0.9726 - val_loss: 0.1336 - val_accuracy: 0.9775\n",
            "Epoch 8/30\n",
            "469/469 [==============================] - 2s 3ms/step - loss: 0.1478 - accuracy: 0.9732 - val_loss: 0.1430 - val_accuracy: 0.9738\n",
            "Epoch 9/30\n",
            "469/469 [==============================] - 2s 4ms/step - loss: 0.1432 - accuracy: 0.9748 - val_loss: 0.1295 - val_accuracy: 0.9786\n",
            "Epoch 10/30\n",
            "469/469 [==============================] - 2s 4ms/step - loss: 0.1390 - accuracy: 0.9758 - val_loss: 0.1188 - val_accuracy: 0.9813\n",
            "Epoch 11/30\n",
            "469/469 [==============================] - 2s 4ms/step - loss: 0.1363 - accuracy: 0.9758 - val_loss: 0.1295 - val_accuracy: 0.9796\n",
            "Epoch 12/30\n",
            "469/469 [==============================] - 2s 3ms/step - loss: 0.1334 - accuracy: 0.9771 - val_loss: 0.1169 - val_accuracy: 0.9824\n",
            "Epoch 13/30\n",
            "469/469 [==============================] - 2s 3ms/step - loss: 0.1308 - accuracy: 0.9772 - val_loss: 0.1117 - val_accuracy: 0.9845\n",
            "Epoch 14/30\n",
            "469/469 [==============================] - 2s 3ms/step - loss: 0.1290 - accuracy: 0.9783 - val_loss: 0.1161 - val_accuracy: 0.9823\n",
            "Epoch 15/30\n",
            "469/469 [==============================] - 2s 4ms/step - loss: 0.1276 - accuracy: 0.9775 - val_loss: 0.1280 - val_accuracy: 0.9774\n",
            "Epoch 16/30\n",
            "469/469 [==============================] - 2s 4ms/step - loss: 0.1245 - accuracy: 0.9786 - val_loss: 0.1905 - val_accuracy: 0.9560\n",
            "Epoch 17/30\n",
            "469/469 [==============================] - 2s 3ms/step - loss: 0.1235 - accuracy: 0.9793 - val_loss: 0.1155 - val_accuracy: 0.9799\n",
            "Epoch 18/30\n",
            "469/469 [==============================] - 2s 3ms/step - loss: 0.1218 - accuracy: 0.9788 - val_loss: 0.0976 - val_accuracy: 0.9873\n",
            "Epoch 19/30\n",
            "469/469 [==============================] - 2s 3ms/step - loss: 0.1196 - accuracy: 0.9791 - val_loss: 0.0980 - val_accuracy: 0.9864\n",
            "Epoch 20/30\n",
            "469/469 [==============================] - 2s 3ms/step - loss: 0.1172 - accuracy: 0.9805 - val_loss: 0.1053 - val_accuracy: 0.9828\n",
            "Epoch 21/30\n",
            "469/469 [==============================] - 2s 3ms/step - loss: 0.1158 - accuracy: 0.9806 - val_loss: 0.1146 - val_accuracy: 0.9809\n",
            "Epoch 22/30\n",
            "469/469 [==============================] - 2s 3ms/step - loss: 0.1149 - accuracy: 0.9801 - val_loss: 0.1008 - val_accuracy: 0.9851\n",
            "Epoch 23/30\n",
            "469/469 [==============================] - 2s 3ms/step - loss: 0.1142 - accuracy: 0.9804 - val_loss: 0.0878 - val_accuracy: 0.9896\n",
            "Epoch 24/30\n",
            "469/469 [==============================] - 2s 4ms/step - loss: 0.1136 - accuracy: 0.9804 - val_loss: 0.1064 - val_accuracy: 0.9819\n",
            "Epoch 25/30\n",
            "469/469 [==============================] - 2s 4ms/step - loss: 0.1118 - accuracy: 0.9809 - val_loss: 0.1064 - val_accuracy: 0.9808\n",
            "Epoch 26/30\n",
            "469/469 [==============================] - 2s 5ms/step - loss: 0.1107 - accuracy: 0.9812 - val_loss: 0.0912 - val_accuracy: 0.9882\n",
            "Epoch 27/30\n",
            "469/469 [==============================] - 2s 4ms/step - loss: 0.1102 - accuracy: 0.9817 - val_loss: 0.0908 - val_accuracy: 0.9876\n",
            "Epoch 28/30\n",
            "469/469 [==============================] - 2s 3ms/step - loss: 0.1081 - accuracy: 0.9815 - val_loss: 0.1016 - val_accuracy: 0.9843\n",
            "Epoch 29/30\n",
            "469/469 [==============================] - 2s 3ms/step - loss: 0.1069 - accuracy: 0.9820 - val_loss: 0.0972 - val_accuracy: 0.9852\n",
            "Epoch 30/30\n",
            "469/469 [==============================] - 2s 4ms/step - loss: 0.1063 - accuracy: 0.9819 - val_loss: 0.0879 - val_accuracy: 0.9884\n"
          ]
        }
      ]
    },
    {
      "cell_type": "code",
      "source": [
        "pinta_perdida_entrenamiento_validacion(historia2)"
      ],
      "metadata": {
        "id": "aXXzm8tpyj6X",
        "colab": {
          "base_uri": "https://localhost:8080/",
          "height": 294
        },
        "outputId": "8b40401f-243e-418f-9d63-1247759b0c67"
      },
      "execution_count": null,
      "outputs": [
        {
          "output_type": "display_data",
          "data": {
            "text/plain": [
              "<Figure size 432x288 with 1 Axes>"
            ],
            "image/png": "[encoded data removed]"
          },
          "metadata": {
            "needs_background": "light"
          }
        }
      ]
    },
    {
      "cell_type": "code",
      "source": [
        "pinta_precision_entrenamiento_validacion(historia2)"
      ],
      "metadata": {
        "id": "CLTsg5LTypH9",
        "colab": {
          "base_uri": "https://localhost:8080/",
          "height": 294
        },
        "outputId": "f2cbaea7-d681-4aa4-ef21-c1a14b4ddee6"
      },
      "execution_count": null,
      "outputs": [
        {
          "output_type": "display_data",
          "data": {
            "text/plain": [
              "<Figure size 432x288 with 1 Axes>"
            ],
            "image/png": "[encoded data removed]"
          },
          "metadata": {
            "needs_background": "light"
          }
        }
      ]
    },
    {
      "cell_type": "markdown",
      "source": [
        "### Caso 3: Con regularizador l1_l2"
      ],
      "metadata": {
        "id": "692oWz8oB82n"
      }
    },
    {
      "cell_type": "code",
      "source": [
        "network3 = crea_modelo(3)"
      ],
      "metadata": {
        "id": "5fdxkjoKzFcu",
        "colab": {
          "base_uri": "https://localhost:8080/"
        },
        "outputId": "ac26549d-f019-4d77-ff7a-4c83d1d41efc"
      },
      "execution_count": null,
      "outputs": [
        {
          "output_type": "stream",
          "name": "stdout",
          "text": [
            "Model: \"sequential_5\"\n",
            "_________________________________________________________________\n",
            " Layer (type)                Output Shape              Param #   \n",
            "=================================================================\n",
            " dense_6 (Dense)             (None, 512)               401920    \n",
            "                                                                 \n",
            " dense_7 (Dense)             (None, 10)                5130      \n",
            "                                                                 \n",
            "=================================================================\n",
            "Total params: 407,050\n",
            "Trainable params: 407,050\n",
            "Non-trainable params: 0\n",
            "_________________________________________________________________\n"
          ]
        }
      ]
    },
    {
      "cell_type": "code",
      "source": [
        "network3 = compila_modelo(network3)"
      ],
      "metadata": {
        "id": "VJzs9A2yzPhx"
      },
      "execution_count": null,
      "outputs": []
    },
    {
      "cell_type": "code",
      "source": [
        "historia3 = entrena_modelo(network3)"
      ],
      "metadata": {
        "id": "1JCUbcCQzY6E",
        "colab": {
          "base_uri": "https://localhost:8080/"
        },
        "outputId": "468c631a-813a-4159-9929-03548e6d2440"
      },
      "execution_count": null,
      "outputs": [
        {
          "output_type": "stream",
          "name": "stdout",
          "text": [
            "Epoch 1/30\n",
            "469/469 [==============================] - 2s 4ms/step - loss: 2.1334 - accuracy: 0.8331 - val_loss: 1.0464 - val_accuracy: 0.8661\n",
            "Epoch 2/30\n",
            "469/469 [==============================] - 2s 4ms/step - loss: 1.0029 - accuracy: 0.8706 - val_loss: 0.8789 - val_accuracy: 0.9013\n",
            "Epoch 3/30\n",
            "469/469 [==============================] - 2s 4ms/step - loss: 0.8941 - accuracy: 0.8891 - val_loss: 0.8856 - val_accuracy: 0.8818\n",
            "Epoch 4/30\n",
            "469/469 [==============================] - 2s 3ms/step - loss: 0.8290 - accuracy: 0.9018 - val_loss: 0.7911 - val_accuracy: 0.9109\n",
            "Epoch 5/30\n",
            "469/469 [==============================] - 2s 4ms/step - loss: 0.7795 - accuracy: 0.9110 - val_loss: 0.7611 - val_accuracy: 0.9124\n",
            "Epoch 6/30\n",
            "469/469 [==============================] - 2s 3ms/step - loss: 0.7387 - accuracy: 0.9191 - val_loss: 0.7419 - val_accuracy: 0.9142\n",
            "Epoch 7/30\n",
            "469/469 [==============================] - 2s 3ms/step - loss: 0.7105 - accuracy: 0.9229 - val_loss: 0.7206 - val_accuracy: 0.9234\n",
            "Epoch 8/30\n",
            "469/469 [==============================] - 2s 3ms/step - loss: 0.6848 - accuracy: 0.9276 - val_loss: 0.6934 - val_accuracy: 0.9312\n",
            "Epoch 9/30\n",
            "469/469 [==============================] - 2s 3ms/step - loss: 0.6669 - accuracy: 0.9299 - val_loss: 0.6254 - val_accuracy: 0.9455\n",
            "Epoch 10/30\n",
            "469/469 [==============================] - 2s 3ms/step - loss: 0.6519 - accuracy: 0.9328 - val_loss: 0.6041 - val_accuracy: 0.9508\n",
            "Epoch 11/30\n",
            "469/469 [==============================] - 2s 3ms/step - loss: 0.6371 - accuracy: 0.9363 - val_loss: 0.6267 - val_accuracy: 0.9460\n",
            "Epoch 12/30\n",
            "469/469 [==============================] - 2s 4ms/step - loss: 0.6238 - accuracy: 0.9383 - val_loss: 0.5882 - val_accuracy: 0.9496\n",
            "Epoch 13/30\n",
            "469/469 [==============================] - 2s 4ms/step - loss: 0.6129 - accuracy: 0.9399 - val_loss: 0.5932 - val_accuracy: 0.9483\n",
            "Epoch 14/30\n",
            "469/469 [==============================] - 2s 4ms/step - loss: 0.6053 - accuracy: 0.9404 - val_loss: 0.5572 - val_accuracy: 0.9548\n",
            "Epoch 15/30\n",
            "469/469 [==============================] - 2s 3ms/step - loss: 0.5977 - accuracy: 0.9415 - val_loss: 0.5537 - val_accuracy: 0.9562\n",
            "Epoch 16/30\n",
            "469/469 [==============================] - 2s 4ms/step - loss: 0.5907 - accuracy: 0.9431 - val_loss: 0.5533 - val_accuracy: 0.9534\n",
            "Epoch 17/30\n",
            "469/469 [==============================] - 2s 4ms/step - loss: 0.5833 - accuracy: 0.9445 - val_loss: 0.5446 - val_accuracy: 0.9555\n",
            "Epoch 18/30\n",
            "469/469 [==============================] - 2s 3ms/step - loss: 0.5792 - accuracy: 0.9440 - val_loss: 0.5678 - val_accuracy: 0.9445\n",
            "Epoch 19/30\n",
            "469/469 [==============================] - 2s 4ms/step - loss: 0.5729 - accuracy: 0.9454 - val_loss: 0.5906 - val_accuracy: 0.9375\n",
            "Epoch 20/30\n",
            "469/469 [==============================] - 2s 3ms/step - loss: 0.5669 - accuracy: 0.9472 - val_loss: 0.5478 - val_accuracy: 0.9539\n",
            "Epoch 21/30\n",
            "469/469 [==============================] - 2s 4ms/step - loss: 0.5628 - accuracy: 0.9477 - val_loss: 0.5898 - val_accuracy: 0.9404\n",
            "Epoch 22/30\n",
            "469/469 [==============================] - 2s 4ms/step - loss: 0.5597 - accuracy: 0.9485 - val_loss: 0.5731 - val_accuracy: 0.9423\n",
            "Epoch 23/30\n",
            "469/469 [==============================] - 2s 4ms/step - loss: 0.5553 - accuracy: 0.9491 - val_loss: 0.5350 - val_accuracy: 0.9525\n",
            "Epoch 24/30\n",
            "469/469 [==============================] - 2s 4ms/step - loss: 0.5533 - accuracy: 0.9491 - val_loss: 0.5037 - val_accuracy: 0.9675\n",
            "Epoch 25/30\n",
            "469/469 [==============================] - 2s 3ms/step - loss: 0.5503 - accuracy: 0.9502 - val_loss: 0.6250 - val_accuracy: 0.9308\n",
            "Epoch 26/30\n",
            "469/469 [==============================] - 2s 3ms/step - loss: 0.5473 - accuracy: 0.9505 - val_loss: 0.4996 - val_accuracy: 0.9647\n",
            "Epoch 27/30\n",
            "469/469 [==============================] - 2s 3ms/step - loss: 0.5436 - accuracy: 0.9513 - val_loss: 0.5214 - val_accuracy: 0.9558\n",
            "Epoch 28/30\n",
            "469/469 [==============================] - 2s 4ms/step - loss: 0.5421 - accuracy: 0.9512 - val_loss: 0.5072 - val_accuracy: 0.9621\n",
            "Epoch 29/30\n",
            "469/469 [==============================] - 2s 5ms/step - loss: 0.5368 - accuracy: 0.9512 - val_loss: 0.5079 - val_accuracy: 0.9623\n",
            "Epoch 30/30\n",
            "469/469 [==============================] - 2s 4ms/step - loss: 0.5341 - accuracy: 0.9516 - val_loss: 0.6314 - val_accuracy: 0.9161\n"
          ]
        }
      ]
    },
    {
      "cell_type": "code",
      "source": [
        "pinta_perdida_entrenamiento_validacion(historia3)"
      ],
      "metadata": {
        "id": "I8XzPVtyze8y",
        "colab": {
          "base_uri": "https://localhost:8080/",
          "height": 294
        },
        "outputId": "d616d674-724d-4d61-9800-7693c2f109a1"
      },
      "execution_count": null,
      "outputs": [
        {
          "output_type": "display_data",
          "data": {
            "text/plain": [
              "<Figure size 432x288 with 1 Axes>"
            ],
            "image/png": "[encoded data removed]"
          },
          "metadata": {
            "needs_background": "light"
          }
        }
      ]
    },
    {
      "cell_type": "code",
      "source": [
        "pinta_precision_entrenamiento_validacion(historia3)"
      ],
      "metadata": {
        "id": "nKk7AmM8zi3A",
        "colab": {
          "base_uri": "https://localhost:8080/",
          "height": 294
        },
        "outputId": "ab584b38-b380-4a93-8352-86663e4d70b5"
      },
      "execution_count": null,
      "outputs": [
        {
          "output_type": "display_data",
          "data": {
            "text/plain": [
              "<Figure size 432x288 with 1 Axes>"
            ],
            "image/png": "[encoded data removed]"
          },
          "metadata": {
            "needs_background": "light"
          }
        }
      ]
    },
    {
      "cell_type": "markdown",
      "source": [
        "### Caso 4: Con Droput"
      ],
      "metadata": {
        "id": "OPVcbgcXCFRL"
      }
    },
    {
      "cell_type": "code",
      "source": [
        "network4 = crea_modelo(4)"
      ],
      "metadata": {
        "id": "5MVbUNX11Pgr",
        "colab": {
          "base_uri": "https://localhost:8080/"
        },
        "outputId": "9ef4e9de-c11d-4c4c-f92a-f3dd5d9e9d81"
      },
      "execution_count": null,
      "outputs": [
        {
          "output_type": "stream",
          "name": "stdout",
          "text": [
            "Model: \"sequential_6\"\n",
            "_________________________________________________________________\n",
            " Layer (type)                Output Shape              Param #   \n",
            "=================================================================\n",
            " dense_8 (Dense)             (None, 512)               401920    \n",
            "                                                                 \n",
            " dropout (Dropout)           (None, 512)               0         \n",
            "                                                                 \n",
            " dense_9 (Dense)             (None, 10)                5130      \n",
            "                                                                 \n",
            "=================================================================\n",
            "Total params: 407,050\n",
            "Trainable params: 407,050\n",
            "Non-trainable params: 0\n",
            "_________________________________________________________________\n"
          ]
        }
      ]
    },
    {
      "cell_type": "code",
      "source": [
        "network4 = compila_modelo(network4)"
      ],
      "metadata": {
        "id": "pT-13IKI1UpW"
      },
      "execution_count": null,
      "outputs": []
    },
    {
      "cell_type": "code",
      "source": [
        "historia4 = entrena_modelo(network4)"
      ],
      "metadata": {
        "id": "kNWidx1S1aCH",
        "colab": {
          "base_uri": "https://localhost:8080/"
        },
        "outputId": "bd4f1e98-2cc3-4dd7-9909-fce6c0d6d781"
      },
      "execution_count": null,
      "outputs": [
        {
          "output_type": "stream",
          "name": "stdout",
          "text": [
            "Epoch 1/30\n",
            "469/469 [==============================] - 2s 4ms/step - loss: 0.3148 - accuracy: 0.9082 - val_loss: 0.1415 - val_accuracy: 0.9606\n",
            "Epoch 2/30\n",
            "469/469 [==============================] - 2s 3ms/step - loss: 0.1552 - accuracy: 0.9542 - val_loss: 0.0845 - val_accuracy: 0.9758\n",
            "Epoch 3/30\n",
            "469/469 [==============================] - 2s 3ms/step - loss: 0.1175 - accuracy: 0.9645 - val_loss: 0.0671 - val_accuracy: 0.9798\n",
            "Epoch 4/30\n",
            "469/469 [==============================] - 2s 4ms/step - loss: 0.0977 - accuracy: 0.9707 - val_loss: 0.0558 - val_accuracy: 0.9844\n",
            "Epoch 5/30\n",
            "469/469 [==============================] - 2s 3ms/step - loss: 0.0879 - accuracy: 0.9740 - val_loss: 0.0454 - val_accuracy: 0.9878\n",
            "Epoch 6/30\n",
            "469/469 [==============================] - 2s 3ms/step - loss: 0.0789 - accuracy: 0.9767 - val_loss: 0.0361 - val_accuracy: 0.9897\n",
            "Epoch 7/30\n",
            "469/469 [==============================] - 2s 3ms/step - loss: 0.0725 - accuracy: 0.9777 - val_loss: 0.0332 - val_accuracy: 0.9894\n",
            "Epoch 8/30\n",
            "469/469 [==============================] - 2s 4ms/step - loss: 0.0651 - accuracy: 0.9807 - val_loss: 0.0313 - val_accuracy: 0.9918\n",
            "Epoch 9/30\n",
            "469/469 [==============================] - 2s 3ms/step - loss: 0.0622 - accuracy: 0.9818 - val_loss: 0.0275 - val_accuracy: 0.9924\n",
            "Epoch 10/30\n",
            "469/469 [==============================] - 2s 3ms/step - loss: 0.0588 - accuracy: 0.9831 - val_loss: 0.0241 - val_accuracy: 0.9939\n",
            "Epoch 11/30\n",
            "469/469 [==============================] - 2s 3ms/step - loss: 0.0549 - accuracy: 0.9836 - val_loss: 0.0258 - val_accuracy: 0.9933\n",
            "Epoch 12/30\n",
            "469/469 [==============================] - 2s 4ms/step - loss: 0.0527 - accuracy: 0.9842 - val_loss: 0.0181 - val_accuracy: 0.9956\n",
            "Epoch 13/30\n",
            "469/469 [==============================] - 2s 3ms/step - loss: 0.0504 - accuracy: 0.9849 - val_loss: 0.0170 - val_accuracy: 0.9960\n",
            "Epoch 14/30\n",
            "469/469 [==============================] - 2s 3ms/step - loss: 0.0466 - accuracy: 0.9863 - val_loss: 0.0174 - val_accuracy: 0.9956\n",
            "Epoch 15/30\n",
            "469/469 [==============================] - 2s 3ms/step - loss: 0.0464 - accuracy: 0.9863 - val_loss: 0.0161 - val_accuracy: 0.9956\n",
            "Epoch 16/30\n",
            "469/469 [==============================] - 2s 3ms/step - loss: 0.0445 - accuracy: 0.9868 - val_loss: 0.0139 - val_accuracy: 0.9965\n",
            "Epoch 17/30\n",
            "469/469 [==============================] - 2s 4ms/step - loss: 0.0420 - accuracy: 0.9873 - val_loss: 0.0137 - val_accuracy: 0.9966\n",
            "Epoch 18/30\n",
            "469/469 [==============================] - 2s 3ms/step - loss: 0.0425 - accuracy: 0.9876 - val_loss: 0.0128 - val_accuracy: 0.9966\n",
            "Epoch 19/30\n",
            "469/469 [==============================] - 2s 3ms/step - loss: 0.0385 - accuracy: 0.9888 - val_loss: 0.0130 - val_accuracy: 0.9967\n",
            "Epoch 20/30\n",
            "469/469 [==============================] - 2s 3ms/step - loss: 0.0376 - accuracy: 0.9888 - val_loss: 0.0103 - val_accuracy: 0.9970\n",
            "Epoch 21/30\n",
            "469/469 [==============================] - 2s 3ms/step - loss: 0.0352 - accuracy: 0.9898 - val_loss: 0.0118 - val_accuracy: 0.9970\n",
            "Epoch 22/30\n",
            "469/469 [==============================] - 2s 4ms/step - loss: 0.0369 - accuracy: 0.9893 - val_loss: 0.0091 - val_accuracy: 0.9979\n",
            "Epoch 23/30\n",
            "469/469 [==============================] - 2s 3ms/step - loss: 0.0343 - accuracy: 0.9892 - val_loss: 0.0096 - val_accuracy: 0.9976\n",
            "Epoch 24/30\n",
            "469/469 [==============================] - 2s 4ms/step - loss: 0.0330 - accuracy: 0.9902 - val_loss: 0.0073 - val_accuracy: 0.9987\n",
            "Epoch 25/30\n",
            "469/469 [==============================] - 2s 4ms/step - loss: 0.0328 - accuracy: 0.9906 - val_loss: 0.0072 - val_accuracy: 0.9981\n",
            "Epoch 26/30\n",
            "469/469 [==============================] - 2s 3ms/step - loss: 0.0312 - accuracy: 0.9906 - val_loss: 0.0085 - val_accuracy: 0.9982\n",
            "Epoch 27/30\n",
            "469/469 [==============================] - 2s 4ms/step - loss: 0.0301 - accuracy: 0.9910 - val_loss: 0.0079 - val_accuracy: 0.9981\n",
            "Epoch 28/30\n",
            "469/469 [==============================] - 2s 4ms/step - loss: 0.0313 - accuracy: 0.9904 - val_loss: 0.0069 - val_accuracy: 0.9987\n",
            "Epoch 29/30\n",
            "469/469 [==============================] - 2s 3ms/step - loss: 0.0294 - accuracy: 0.9914 - val_loss: 0.0066 - val_accuracy: 0.9982\n",
            "Epoch 30/30\n",
            "469/469 [==============================] - 2s 3ms/step - loss: 0.0294 - accuracy: 0.9916 - val_loss: 0.0063 - val_accuracy: 0.9988\n"
          ]
        }
      ]
    },
    {
      "cell_type": "code",
      "source": [
        "pinta_perdida_entrenamiento_validacion(historia4)"
      ],
      "metadata": {
        "id": "R9pI34Yr1gBO",
        "colab": {
          "base_uri": "https://localhost:8080/",
          "height": 294
        },
        "outputId": "02d5d0e6-ef48-42e6-c96d-d84f5f433d20"
      },
      "execution_count": null,
      "outputs": [
        {
          "output_type": "display_data",
          "data": {
            "text/plain": [
              "<Figure size 432x288 with 1 Axes>"
            ],
            "image/png": "[encoded data removed]"
          },
          "metadata": {
            "needs_background": "light"
          }
        }
      ]
    },
    {
      "cell_type": "code",
      "source": [
        "pinta_precision_entrenamiento_validacion(historia4)"
      ],
      "metadata": {
        "id": "EwEIEOKx1lQr",
        "colab": {
          "base_uri": "https://localhost:8080/",
          "height": 294
        },
        "outputId": "671a4ff7-16e0-4ddd-ad1b-6a79fb31f4d7"
      },
      "execution_count": null,
      "outputs": [
        {
          "output_type": "display_data",
          "data": {
            "text/plain": [
              "<Figure size 432x288 with 1 Axes>"
            ],
            "image/png": "[encoded data removed]"
          },
          "metadata": {
            "needs_background": "light"
          }
        }
      ]
    },
    {
      "cell_type": "markdown",
      "source": [
        "### Caso 5: Error de código de regularizador"
      ],
      "metadata": {
        "id": "e6rlKx2nCOgU"
      }
    },
    {
      "cell_type": "code",
      "source": [
        "network5 = crea_modelo(5)"
      ],
      "metadata": {
        "id": "SqGDm8VM1rwR",
        "outputId": "cb786527-62ba-4fee-b948-5e26476fc7b0",
        "colab": {
          "base_uri": "https://localhost:8080/"
        }
      },
      "execution_count": null,
      "outputs": [
        {
          "output_type": "stream",
          "name": "stdout",
          "text": [
            "El numero debe estar entre 0-4\n"
          ]
        }
      ]
    },
    {
      "cell_type": "markdown",
      "source": [
        "### CONCLUSIONES"
      ],
      "metadata": {
        "id": "IklUu29cCcVe"
      }
    },
    {
      "cell_type": "markdown",
      "source": [
        "El regularizador más eficaz es el **drop out**, el modelo se entrena adecuadamente con las 30 épocas, en ningún momento rozamos el sobreentrenamiento, como podemos observar en los demás casos. \n",
        "Entonces, podemos decir que para este tipo de casos es el mejor regularizador, el del **caso 4**. \n",
        "Con el último caso llegamos a una precisión de 0,9988."
      ],
      "metadata": {
        "id": "cB_OYjjaChzN"
      }
    }
  ]
}